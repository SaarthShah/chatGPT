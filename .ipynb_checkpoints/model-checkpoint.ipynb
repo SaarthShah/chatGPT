{
 "cells": [
  {
   "cell_type": "markdown",
   "id": "5db23eca",
   "metadata": {},
   "source": [
    "# GPT from Scratch"
   ]
  },
  {
   "cell_type": "markdown",
   "id": "a81d4d7b",
   "metadata": {},
   "source": [
    "Trying to jump in a bit deeper on language models, this code is just me studying from a video that Karpathy made:\n",
    "https://youtu.be/kCc8FmEb1nY?si=4S4voHUOZv2Dyrn1"
   ]
  },
  {
   "cell_type": "code",
   "execution_count": 1,
   "id": "21a84608",
   "metadata": {},
   "outputs": [],
   "source": [
    "import torch\n",
    "import torch.nn as nn\n",
    "from torch.nn import functional as F"
   ]
  },
  {
   "cell_type": "markdown",
   "id": "b7ff195b",
   "metadata": {},
   "source": [
    "### Getting and cleaning the training data"
   ]
  },
  {
   "cell_type": "code",
   "execution_count": 1,
   "id": "252fc202",
   "metadata": {},
   "outputs": [
    {
     "name": "stdout",
     "output_type": "stream",
     "text": [
      "--2024-08-22 23:34:09--  https://raw.githubusercontent.com/karpathy/char-rnn/master/data/tinyshakespeare/input.txt\n",
      "Resolving raw.githubusercontent.com (raw.githubusercontent.com)... 2606:50c0:8000::154, 2606:50c0:8001::154, 2606:50c0:8002::154, ...\n",
      "Connecting to raw.githubusercontent.com (raw.githubusercontent.com)|2606:50c0:8000::154|:443... connected.\n",
      "HTTP request sent, awaiting response... 200 OK\n",
      "Length: 1115394 (1.1M) [text/plain]\n",
      "Saving to: ‘input.txt’\n",
      "\n",
      "input.txt           100%[===================>]   1.06M   295KB/s    in 3.7s    \n",
      "\n",
      "2024-08-22 23:34:19 (295 KB/s) - ‘input.txt’ saved [1115394/1115394]\n",
      "\n"
     ]
    }
   ],
   "source": [
    "!wget https://raw.githubusercontent.com/karpathy/char-rnn/master/data/tinyshakespeare/input.txt"
   ]
  },
  {
   "cell_type": "code",
   "execution_count": 2,
   "id": "6a815b8a",
   "metadata": {},
   "outputs": [],
   "source": [
    "with open('input.txt', 'r', encoding='utf-8') as f:\n",
    "    text = f.read()"
   ]
  },
  {
   "cell_type": "code",
   "execution_count": 3,
   "id": "9ec7c546",
   "metadata": {},
   "outputs": [
    {
     "name": "stdout",
     "output_type": "stream",
     "text": [
      "202651\n"
     ]
    }
   ],
   "source": [
    "print(len(text.split()))"
   ]
  },
  {
   "cell_type": "code",
   "execution_count": 4,
   "id": "2051f896",
   "metadata": {},
   "outputs": [
    {
     "name": "stdout",
     "output_type": "stream",
     "text": [
      "\n",
      " !$&',-.3:;?ABCDEFGHIJKLMNOPQRSTUVWXYZabcdefghijklmnopqrstuvwxyz\n",
      "65\n"
     ]
    }
   ],
   "source": [
    "chars = sorted(list(set(text)))\n",
    "vocab_size = len(chars)\n",
    "print(''.join(chars))\n",
    "print(vocab_size)"
   ]
  },
  {
   "cell_type": "markdown",
   "id": "c774f7a2",
   "metadata": {},
   "source": [
    "### Encoder and Decoder at Character Level"
   ]
  },
  {
   "cell_type": "code",
   "execution_count": 6,
   "id": "507eb5b6",
   "metadata": {},
   "outputs": [
    {
     "name": "stdout",
     "output_type": "stream",
     "text": [
      "[46, 43, 50, 50, 53, 1, 61, 53, 56, 50, 42, 2]\n",
      "hello world!\n"
     ]
    }
   ],
   "source": [
    "stoi = {ch:i for i,ch in enumerate(chars)}\n",
    "itos = {i:ch for i,ch in enumerate(chars)}\n",
    "\n",
    "encode = lambda string: [stoi[ch] for ch in string]\n",
    "decode = lambda string: ''.join([itos[ch] for ch in string])\n",
    "\n",
    "print(encode('hello world!'))\n",
    "print(decode(encode('hello world!')))"
   ]
  },
  {
   "cell_type": "code",
   "execution_count": 10,
   "id": "dd946f6d",
   "metadata": {},
   "outputs": [
    {
     "name": "stdout",
     "output_type": "stream",
     "text": [
      "torch.Size([1115394]) torch.int64\n",
      "tensor([18, 47, 56, 57, 58,  1, 15, 47, 58, 47, 64, 43, 52, 10,  0, 14, 43, 44,\n",
      "        53, 56, 43,  1, 61, 43,  1, 54, 56, 53, 41, 43, 43, 42,  1, 39, 52, 63,\n",
      "         1, 44, 59, 56, 58, 46, 43, 56,  6,  1, 46, 43, 39, 56,  1, 51, 43,  1,\n",
      "        57, 54, 43, 39, 49,  8,  0,  0, 13, 50, 50, 10,  0, 31, 54, 43, 39, 49,\n",
      "         6,  1, 57, 54, 43, 39, 49,  8,  0,  0, 18, 47, 56, 57, 58,  1, 15, 47,\n",
      "        58, 47, 64, 43, 52, 10,  0, 37, 53, 59])\n"
     ]
    }
   ],
   "source": [
    "# enoding the entire text dataset into torch.Tensor\n",
    "data = torch.tensor(encode(text), dtype=torch.long)\n",
    "print(data.shape, data.dtype)\n",
    "print(data[:100])"
   ]
  },
  {
   "cell_type": "code",
   "execution_count": 11,
   "id": "0249dd78",
   "metadata": {},
   "outputs": [],
   "source": [
    "#Splitting into training and validation\n",
    "n = int(0.9* len(data))\n",
    "train = data[:n]\n",
    "validation = data[n:]"
   ]
  },
  {
   "cell_type": "markdown",
   "id": "e48770cc",
   "metadata": {},
   "source": [
    "### Training the transformer"
   ]
  },
  {
   "cell_type": "code",
   "execution_count": 12,
   "id": "6b7b4355",
   "metadata": {},
   "outputs": [
    {
     "data": {
      "text/plain": [
       "tensor([18, 47, 56, 57, 58,  1, 15, 47, 58])"
      ]
     },
     "execution_count": 12,
     "metadata": {},
     "output_type": "execute_result"
    }
   ],
   "source": [
    "# There are 8 individual patterns packed here, which explains the +1\n",
    "block_size = 8\n",
    "train[:block_size+1]"
   ]
  },
  {
   "cell_type": "code",
   "execution_count": 15,
   "id": "da4f0a78",
   "metadata": {},
   "outputs": [
    {
     "name": "stdout",
     "output_type": "stream",
     "text": [
      "when input is tensor([18]) then the target:47\n",
      "when input is tensor([18, 47]) then the target:56\n",
      "when input is tensor([18, 47, 56]) then the target:57\n",
      "when input is tensor([18, 47, 56, 57]) then the target:58\n",
      "when input is tensor([18, 47, 56, 57, 58]) then the target:1\n",
      "when input is tensor([18, 47, 56, 57, 58,  1]) then the target:15\n",
      "when input is tensor([18, 47, 56, 57, 58,  1, 15]) then the target:47\n",
      "when input is tensor([18, 47, 56, 57, 58,  1, 15, 47]) then the target:58\n"
     ]
    }
   ],
   "source": [
    "x = train[:block_size]\n",
    "y = train[1:block_size+1]\n",
    "for t in range(block_size):\n",
    "    context = x[:t+1]\n",
    "    target = y[t]\n",
    "    print(f\"when input is {context} then the target:{target}\")"
   ]
  },
  {
   "cell_type": "code",
   "execution_count": 16,
   "id": "7869a2f6",
   "metadata": {},
   "outputs": [
    {
     "name": "stdout",
     "output_type": "stream",
     "text": [
      "inputs:\n",
      "torch.Size([4, 8])\n",
      "tensor([[24, 43, 58,  5, 57,  1, 46, 43],\n",
      "        [44, 53, 56,  1, 58, 46, 39, 58],\n",
      "        [52, 58,  1, 58, 46, 39, 58,  1],\n",
      "        [25, 17, 27, 10,  0, 21,  1, 54]])\n",
      "targets:\n",
      "torch.Size([4, 8])\n",
      "tensor([[43, 58,  5, 57,  1, 46, 43, 39],\n",
      "        [53, 56,  1, 58, 46, 39, 58,  1],\n",
      "        [58,  1, 58, 46, 39, 58,  1, 46],\n",
      "        [17, 27, 10,  0, 21,  1, 54, 39]])\n",
      "----\n",
      "when input is [24] then the target:43\n",
      "when input is [24, 43] then the target:58\n",
      "when input is [24, 43, 58] then the target:5\n",
      "when input is [24, 43, 58, 5] then the target:57\n",
      "when input is [24, 43, 58, 5, 57] then the target:1\n",
      "when input is [24, 43, 58, 5, 57, 1] then the target:46\n",
      "when input is [24, 43, 58, 5, 57, 1, 46] then the target:43\n",
      "when input is [24, 43, 58, 5, 57, 1, 46, 43] then the target:39\n",
      "when input is [44] then the target:53\n",
      "when input is [44, 53] then the target:56\n",
      "when input is [44, 53, 56] then the target:1\n",
      "when input is [44, 53, 56, 1] then the target:58\n",
      "when input is [44, 53, 56, 1, 58] then the target:46\n",
      "when input is [44, 53, 56, 1, 58, 46] then the target:39\n",
      "when input is [44, 53, 56, 1, 58, 46, 39] then the target:58\n",
      "when input is [44, 53, 56, 1, 58, 46, 39, 58] then the target:1\n",
      "when input is [52] then the target:58\n",
      "when input is [52, 58] then the target:1\n",
      "when input is [52, 58, 1] then the target:58\n",
      "when input is [52, 58, 1, 58] then the target:46\n",
      "when input is [52, 58, 1, 58, 46] then the target:39\n",
      "when input is [52, 58, 1, 58, 46, 39] then the target:58\n",
      "when input is [52, 58, 1, 58, 46, 39, 58] then the target:1\n",
      "when input is [52, 58, 1, 58, 46, 39, 58, 1] then the target:46\n",
      "when input is [25] then the target:17\n",
      "when input is [25, 17] then the target:27\n",
      "when input is [25, 17, 27] then the target:10\n",
      "when input is [25, 17, 27, 10] then the target:0\n",
      "when input is [25, 17, 27, 10, 0] then the target:21\n",
      "when input is [25, 17, 27, 10, 0, 21] then the target:1\n",
      "when input is [25, 17, 27, 10, 0, 21, 1] then the target:54\n",
      "when input is [25, 17, 27, 10, 0, 21, 1, 54] then the target:39\n"
     ]
    }
   ],
   "source": [
    "# Batch Size (Another Dimension)\n",
    "\n",
    "torch.manual_seed(1337)\n",
    "batch_size = 4 # Number of independent sequences can we process in parallel\n",
    "block_size = 8 # Maximum context length for our predictions\n",
    "\n",
    "def get_batch(split):\n",
    "    data = train if split == 'train' else validation\n",
    "    ix = torch.randint(len(data) - block_size, (batch_size,)) # randomly generated 4 numbers b/w 0 and block size\n",
    "    x = torch.stack([data[i:i+block_size] for i in ix]) # get chunks for all of the ix\n",
    "    y = torch.stack([data[i+1:i+block_size+1] for i in ix]) # get the target for the tensors\n",
    "    return x,y\n",
    "\n",
    "xb, yb = get_batch('train')\n",
    "print('inputs:')\n",
    "print(xb.shape)\n",
    "print(xb)\n",
    "print('targets:')\n",
    "print(yb.shape)\n",
    "print(yb)\n",
    "\n",
    "print('----')\n",
    "\n",
    "# 32 total examples in a single batch of size 4\n",
    "for b in range(batch_size): # Batch Dimension\n",
    "    for t in range(block_size): # Time Dimension\n",
    "        context = xb[b, :t+1]\n",
    "        target = yb[b,t]\n",
    "        print(f\"when input is {context.tolist()} then the target:{target}\")"
   ]
  },
  {
   "cell_type": "code",
   "execution_count": 17,
   "id": "d6b652ad",
   "metadata": {},
   "outputs": [
    {
     "data": {
      "text/plain": [
       "Embedding(65, 65)"
      ]
     },
     "execution_count": 17,
     "metadata": {},
     "output_type": "execute_result"
    }
   ],
   "source": [
    "nn.Embedding(vocab_size, vocab_size)"
   ]
  },
  {
   "cell_type": "code",
   "execution_count": 29,
   "id": "deab63b9",
   "metadata": {},
   "outputs": [
    {
     "name": "stdout",
     "output_type": "stream",
     "text": [
      "torch.Size([32, 65])\n",
      "tensor(4.8786, grad_fn=<NllLossBackward0>)\n"
     ]
    }
   ],
   "source": [
    "torch.manual_seed(1337)\n",
    "\n",
    "class BigramLanguageModel(nn.Module):\n",
    "    def __init__(self,vocab_size):\n",
    "        \n",
    "        super().__init__()\n",
    "        # each token reads off the logits for the next token from lookup table\n",
    "        self.token_embedding_table = nn.Embedding(vocab_size, vocab_size)\n",
    "    \n",
    "    def forward(self, idx, targets=None):\n",
    "        # idx and targets are both (B,T) tensors of integers\n",
    "        \n",
    "        logits = self.token_embedding_table(idx) # (B,T,C)\n",
    "        \n",
    "        if targets == None:\n",
    "            loss = None\n",
    "        else:\n",
    "            B,T,C = logits.shape # Reshaping\n",
    "\n",
    "            logits = logits.view(B*T,C)\n",
    "\n",
    "            targets = targets.view(B*T)\n",
    "\n",
    "            loss = F.cross_entropy(logits,targets)\n",
    "        \n",
    "        return logits, loss\n",
    "    \n",
    "    def generate(self, idx, max_new_tokens):\n",
    "        # idx is (B,T) array of indices in the current context\n",
    "        for _ in range(max_new_tokens):\n",
    "            # predictions\n",
    "            logits, loss = self(idx)\n",
    "            # focus only on the last step -> bigram\n",
    "            logits = logits[:,-1,:] # Makes it (B,C)\n",
    "            # apply softmax\n",
    "            probs = F.softmax(logits, dim=-1) # (B,C)\n",
    "            idx_next = torch.multinomial(probs, num_samples=1) # (B,1)\n",
    "            # append sampled index to the running sequence\n",
    "            idx = torch.cat((idx, idx_next), dim=1) # (B, T+1)\n",
    "        \n",
    "        return idx\n",
    "            \n",
    "            \n",
    "    \n",
    "m = BigramLanguageModel(vocab_size)\n",
    "# we are predicting what comes next based on individual identity of a single token\n",
    "logits,loss = m(xb,yb)\n",
    "print(logits.shape)\n",
    "print(loss)"
   ]
  },
  {
   "cell_type": "code",
   "execution_count": 30,
   "id": "9231971e",
   "metadata": {},
   "outputs": [
    {
     "data": {
      "text/plain": [
       "tensor([[0]])"
      ]
     },
     "execution_count": 30,
     "metadata": {},
     "output_type": "execute_result"
    }
   ],
   "source": [
    "idx = torch.zeros((1,1), dtype=torch.long)\n",
    "idx"
   ]
  },
  {
   "cell_type": "markdown",
   "id": "3bcd9ffd",
   "metadata": {},
   "source": [
    "# totally random modeling"
   ]
  },
  {
   "cell_type": "code",
   "execution_count": 35,
   "id": "d18578d8",
   "metadata": {},
   "outputs": [
    {
     "data": {
      "text/plain": [
       "'\\nrVchSFUIdd q?sPJpUdhMCK$VXXevXJFMl,i\\nYxA:gWId,EXR,iMC,$?srV$VztRwb?KpgUWFjR$zChOLm;JrDnDph\\nLBj,KZxJa'"
      ]
     },
     "execution_count": 35,
     "metadata": {},
     "output_type": "execute_result"
    }
   ],
   "source": [
    "decode(m.generate(idx, max_new_tokens = 100)[0].tolist())"
   ]
  },
  {
   "cell_type": "code",
   "execution_count": 47,
   "id": "b69bc44a",
   "metadata": {},
   "outputs": [],
   "source": [
    "optimizer = torch.optim.AdamW(m.parameters(), lr=1.2e-3)"
   ]
  },
  {
   "cell_type": "code",
   "execution_count": 48,
   "id": "bfe3f618",
   "metadata": {},
   "outputs": [
    {
     "name": "stdout",
     "output_type": "stream",
     "text": [
      "2.439894199371338\n"
     ]
    }
   ],
   "source": [
    "batch_size = 64\n",
    "\n",
    "for steps in range(10000):\n",
    "    xb,yb = get_batch('train')\n",
    "    \n",
    "    logits, loss = m(xb, yb)\n",
    "    \n",
    "    optimizer.zero_grad(set_to_none=True)\n",
    "    \n",
    "    loss.backward()\n",
    "    optimizer.step()\n",
    "    \n",
    "print(loss.item())"
   ]
  },
  {
   "cell_type": "code",
   "execution_count": 50,
   "id": "9aae29e6",
   "metadata": {},
   "outputs": [
    {
     "name": "stdout",
     "output_type": "stream",
     "text": [
      "\n",
      "YO, t milll ll thepa'djo henose Fomevofan GLOfoouloredoolu ket.\n",
      "Wine d urus, lomere by,\n",
      "ADod at alse\n"
     ]
    }
   ],
   "source": [
    "print(decode(m.generate(idx, max_new_tokens = 100)[0].tolist()))"
   ]
  },
  {
   "cell_type": "markdown",
   "id": "e89ddaae",
   "metadata": {},
   "source": [
    "### printing french lmao"
   ]
  },
  {
   "cell_type": "markdown",
   "id": "ff0d5b52",
   "metadata": {},
   "source": [
    "Karapthy's math trick for self attention"
   ]
  },
  {
   "cell_type": "code",
   "execution_count": 54,
   "id": "1deb4468",
   "metadata": {},
   "outputs": [
    {
     "data": {
      "text/plain": [
       "tensor([[[ 0.1808, -0.0700],\n",
       "         [-0.3596, -0.9152],\n",
       "         [ 0.6258,  0.0255],\n",
       "         [ 0.9545,  0.0643],\n",
       "         [ 0.3612,  1.1679],\n",
       "         [-1.3499, -0.5102],\n",
       "         [ 0.2360, -0.2398],\n",
       "         [-0.9211,  1.5433]],\n",
       "\n",
       "        [[ 1.3488, -0.1396],\n",
       "         [ 0.2858,  0.9651],\n",
       "         [-2.0371,  0.4931],\n",
       "         [ 1.4870,  0.5910],\n",
       "         [ 0.1260, -1.5627],\n",
       "         [-1.1601, -0.3348],\n",
       "         [ 0.4478, -0.8016],\n",
       "         [ 1.5236,  2.5086]],\n",
       "\n",
       "        [[-0.6631, -0.2513],\n",
       "         [ 1.0101,  0.1215],\n",
       "         [ 0.1584,  1.1340],\n",
       "         [-1.1539, -0.2984],\n",
       "         [-0.5075, -0.9239],\n",
       "         [ 0.5467, -1.4948],\n",
       "         [-1.2057,  0.5718],\n",
       "         [-0.5974, -0.6937]],\n",
       "\n",
       "        [[ 1.6455, -0.8030],\n",
       "         [ 1.3514, -0.2759],\n",
       "         [-1.5108,  2.1048],\n",
       "         [ 2.7630, -1.7465],\n",
       "         [ 1.4516, -1.5103],\n",
       "         [ 0.8212, -0.2115],\n",
       "         [ 0.7789,  1.5333],\n",
       "         [ 1.6097, -0.4032]]])"
      ]
     },
     "execution_count": 54,
     "metadata": {},
     "output_type": "execute_result"
    }
   ],
   "source": [
    "torch.manual_seed(1337)\n",
    "B,T,C = 4,8,2 # batch, time, channels\n",
    "x = torch.randn(B,T,C)\n",
    "x"
   ]
  },
  {
   "cell_type": "code",
   "execution_count": 61,
   "id": "f0d0ba7b",
   "metadata": {},
   "outputs": [
    {
     "data": {
      "text/plain": [
       "tensor([-0.9211,  1.5433])"
      ]
     },
     "execution_count": 61,
     "metadata": {},
     "output_type": "execute_result"
    }
   ],
   "source": [
    "x[0][7] # 2 channels and 8 time components (8 tokens in a batch)"
   ]
  },
  {
   "cell_type": "markdown",
   "id": "a9616fff",
   "metadata": {},
   "source": [
    "The token should only flow information backwards, do an average of all the tokens before, which summarizies the information behind, but this is lossy but works ish for now."
   ]
  },
  {
   "cell_type": "code",
   "execution_count": 104,
   "id": "11ad0ef9",
   "metadata": {},
   "outputs": [],
   "source": [
    "bag = torch.zeros((B,T,C))\n",
    "\n",
    "for b in range(B):\n",
    "    for t in range(T):\n",
    "        prev = x[b,:t+1]\n",
    "        bag[b,t] = torch.mean(prev,0)"
   ]
  },
  {
   "cell_type": "code",
   "execution_count": 105,
   "id": "ae1a8300",
   "metadata": {},
   "outputs": [
    {
     "data": {
      "text/plain": [
       "tensor([[ 0.1808, -0.0700],\n",
       "        [-0.0894, -0.4926],\n",
       "        [ 0.1490, -0.3199],\n",
       "        [ 0.3504, -0.2238],\n",
       "        [ 0.3525,  0.0545],\n",
       "        [ 0.0688, -0.0396],\n",
       "        [ 0.0927, -0.0682],\n",
       "        [-0.0341,  0.1332]])"
      ]
     },
     "execution_count": 105,
     "metadata": {},
     "output_type": "execute_result"
    }
   ],
   "source": [
    "bag[0]"
   ]
  },
  {
   "cell_type": "code",
   "execution_count": null,
   "id": "22e2a137",
   "metadata": {},
   "outputs": [],
   "source": []
  }
 ],
 "metadata": {
  "kernelspec": {
   "display_name": "Python 3 (ipykernel)",
   "language": "python",
   "name": "python3"
  },
  "language_info": {
   "codemirror_mode": {
    "name": "ipython",
    "version": 3
   },
   "file_extension": ".py",
   "mimetype": "text/x-python",
   "name": "python",
   "nbconvert_exporter": "python",
   "pygments_lexer": "ipython3",
   "version": "3.11.5"
  }
 },
 "nbformat": 4,
 "nbformat_minor": 5
}
